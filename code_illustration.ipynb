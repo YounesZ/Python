{
 "cells": [
  {
   "cell_type": "code",
   "execution_count": 1,
   "metadata": {
    "scrolled": true
   },
   "outputs": [
    {
     "data": {
      "text/plain": [
       "' \\nThis notebook illustrates how to retrieve player statistics and convert them into player profiles \\n(offensive, defensive, neutral). It also shows how to retrieve game info, such as players list etc.\\n'"
      ]
     },
     "execution_count": 1,
     "metadata": {},
     "output_type": "execute_result"
    }
   ],
   "source": [
    "\"\"\" \n",
    "This notebook illustrates how to retrieve player statistics and convert them into player profiles \n",
    "(offensive, defensive, neutral). It also shows how to retrieve game info, such as players list etc.\n",
    "\"\"\"\n"
   ]
  },
  {
   "cell_type": "code",
   "execution_count": 2,
   "metadata": {},
   "outputs": [],
   "source": [
    "from ReinforcementLearning.NHL.playerstats.nhl_player_stats import *\n",
    "from ReinforcementLearning.NHL.playbyplay.game import *"
   ]
  },
  {
   "cell_type": "code",
   "execution_count": 3,
   "metadata": {},
   "outputs": [],
   "source": [
    "# Pointers to the data\n",
    "#repoCode    =   '/home/younesz/Documents/Code/Python'\n",
    "repoCode    =   '/Users/younes_zerouali/Documents/Stradigi/Code/NHL_stats_SL'\n",
    "#db_root     =   '/home/younesz/Documents/Hockey'        #This is the location of the Hockey database\n",
    "db_root     =   '/Users/younes_zerouali/Documents/Stradigi/Databases/Hockey'\n",
    "repoPbP     =   path.join(db_root, 'PlayByPlay')\n",
    "repoPSt     =   path.join(db_root, 'PlayerStats/player')\n",
    "repoModel   =   path.join(repoCode, 'ReinforcementLearning/NHL/playerstats/offVSdef/Automatic_classification/MODEL_backup_trainedonallseasons_rankstatprediction')\n",
    "repoModel   =   path.join(repoCode, 'ReinforcementLearning/NHL/playerstats/offVSdef/Automatic_classification/MODEL_perceptron_1layer_10units_relu')\n",
    "repoSave    =   None #path.join(repoCode, 'ReinforcementLearning/NHL/playbyplay/data')"
   ]
  },
  {
   "cell_type": "code",
   "execution_count": 4,
   "metadata": {},
   "outputs": [
    {
     "data": {
      "text/plain": [
       "'/Users/younes_zerouali/Documents/Stradigi/Databases/Hockey/PlayByPlay'"
      ]
     },
     "execution_count": 4,
     "metadata": {},
     "output_type": "execute_result"
    }
   ],
   "source": [
    "repoPbP"
   ]
  },
  {
   "cell_type": "code",
   "execution_count": 5,
   "metadata": {},
   "outputs": [
    {
     "name": "stdout",
     "output_type": "stream",
     "text": [
      "Player 3000/3058 - ANDY BERENZWEIG: [======================================= ] 98%, completedd"
     ]
    },
    {
     "name": "stderr",
     "output_type": "stream",
     "text": [
      "/Users/younes_zerouali/Documents/Stradigi/Code/NHL_stats_SL/ReinforcementLearning/NHL/playerstats/nhl_player_stats.py:391: FutureWarning: \n",
      "Passing list-likes to .loc or [] with any missing label will raise\n",
      "KeyError in the future, you can use .reindex() as an alternative.\n",
      "\n",
      "See the documentation here:\n",
      "http://pandas.pydata.org/pandas-docs/stable/indexing.html#deprecate-loc-reindex-listlike\n",
      "  tempX   =   sea_stats.loc[tempY.index, dtCols]\n"
     ]
    },
    {
     "name": "stdout",
     "output_type": "stream",
     "text": [
      "Player 3000/3058 - ANDY BERENZWEIG: [======================================= ] 98%, completedd"
     ]
    }
   ],
   "source": [
    "# ==== Before starting, recompute the model\n",
    "# This should avoid path issues when reloading it\n",
    "normalizer, pca, dtCols, CLS    =   do_ANN_training(repoPSt, repoPbP, repoCode, repoModel, minGames=0.2)"
   ]
  },
  {
   "cell_type": "code",
   "execution_count": 6,
   "metadata": {},
   "outputs": [
    {
     "name": "stderr",
     "output_type": "stream",
     "text": [
      "/Users/younes_zerouali/anaconda3/envs/tensorflow/lib/python3.6/site-packages/ipykernel_launcher.py:5: UserWarning: Boolean Series key will be reindexed to match DataFrame index.\n",
      "  \"\"\"\n"
     ]
    }
   ],
   "source": [
    "# ==== First the game data\n",
    "\n",
    "# Montreal received Ottawa on march 13, 2013, let's convert game date to game code\n",
    "gameInfo    =   pickle.load( open(path.join(db_root, 'gamesInfo.p'), 'rb') )\n",
    "gameInfo    =   gameInfo[gameInfo['gameDate']=='2013-03-13'][gameInfo['teamAbbrev']=='MTL']\n",
    "gameId      =   gameInfo['gameId']\n",
    "gameId      =   int( gameId.values.astype('str')[0][5:] )\n",
    "\n",
    "# Now lets get game data \n",
    "season      =   '20122013'\n",
    "mtlott      =   Game(repoPbP, repoPSt, season, gameId=gameId )"
   ]
  },
  {
   "cell_type": "code",
   "execution_count": 7,
   "metadata": {},
   "outputs": [
    {
     "data": {
      "text/plain": [
       "'/Users/younes_zerouali/Documents/Stradigi/Code/NHL_stats_SL/ReinforcementLearning/NHL/playerstats/offVSdef/Automatic_classification/MODEL_perceptron_1layer_10units_relu'"
      ]
     },
     "execution_count": 7,
     "metadata": {},
     "output_type": "execute_result"
    }
   ],
   "source": [
    "repoModel"
   ]
  },
  {
   "cell_type": "code",
   "execution_count": 8,
   "metadata": {},
   "outputs": [
    {
     "name": "stdout",
     "output_type": "stream",
     "text": [
      "INFO:tensorflow:Restoring parameters from /Users/younes_zerouali/Documents/Stradigi/Code/NHL_stats_SL/ReinforcementLearning/NHL/playerstats/offVSdef/Automatic_classification/MODEL_perceptron_1layer_10units_relu/MODEL_perceptron_1layer_10units_relu\n"
     ]
    }
   ],
   "source": [
    "# ==== Second the players data\n",
    "\n",
    "# Need to load the data pre-processing variables\n",
    "preprocessing  =   pickle.load(open(path.join(repoModel, 'baseVariables.p'), 'rb'))\n",
    "\n",
    "# Need to load the classification model (for players' predicted ranking on trophies voting lists)\n",
    "classifier          =   {'sess':tf.Session(), 'annX':[], 'annY':[]}\n",
    "saver               =   tf.train.import_meta_graph(path.join(repoModel, path.basename(repoModel) + '.meta'))\n",
    "graph               =   classifier['sess'].graph\n",
    "classifier['annX']  =   graph.get_tensor_by_name('Input_to_the_network-player_features:0')\n",
    "classifier['annY']  =   graph.get_tensor_by_name('prediction:0')\n",
    "saver.restore(classifier['sess'], tf.train.latest_checkpoint(path.join(repoModel, './')))\n",
    "\n",
    "# Pick players stats - last 30 games \n",
    "mtlott.pull_line_shifts(team='both', minduration=20)\n",
    "mtlott.pick_regulartime()\n",
    "mtlott.pick_equalstrength()\n",
    "mtlott.pull_players_classes(preprocessing, classifier, nGames=30) #Here set number of n-back games to 30\n",
    "\n"
   ]
  },
  {
   "cell_type": "code",
   "execution_count": 9,
   "metadata": {},
   "outputs": [
    {
     "data": {
      "text/html": [
       "<div>\n",
       "<style scoped>\n",
       "    .dataframe tbody tr th:only-of-type {\n",
       "        vertical-align: middle;\n",
       "    }\n",
       "\n",
       "    .dataframe tbody tr th {\n",
       "        vertical-align: top;\n",
       "    }\n",
       "\n",
       "    .dataframe thead th {\n",
       "        text-align: right;\n",
       "    }\n",
       "</style>\n",
       "<table border=\"1\" class=\"dataframe\">\n",
       "  <thead>\n",
       "    <tr style=\"text-align: right;\">\n",
       "      <th></th>\n",
       "      <th>class</th>\n",
       "      <th>firstlast</th>\n",
       "      <th>pred_ross</th>\n",
       "      <th>pred_selke</th>\n",
       "    </tr>\n",
       "  </thead>\n",
       "  <tbody>\n",
       "    <tr>\n",
       "      <th>8</th>\n",
       "      <td>2</td>\n",
       "      <td>DAVID DESHARNAIS</td>\n",
       "      <td>0.125451</td>\n",
       "      <td>0.260526</td>\n",
       "    </tr>\n",
       "    <tr>\n",
       "      <th>9</th>\n",
       "      <td>0</td>\n",
       "      <td>LARS ELLER</td>\n",
       "      <td>0.058762</td>\n",
       "      <td>0.414097</td>\n",
       "    </tr>\n",
       "    <tr>\n",
       "      <th>13</th>\n",
       "      <td>2</td>\n",
       "      <td>ALEX GALCHENYUK</td>\n",
       "      <td>0.191011</td>\n",
       "      <td>0.350594</td>\n",
       "    </tr>\n",
       "    <tr>\n",
       "      <th>14</th>\n",
       "      <td>1</td>\n",
       "      <td>BRENDAN GALLAGHER</td>\n",
       "      <td>0.512559</td>\n",
       "      <td>0.215023</td>\n",
       "    </tr>\n",
       "    <tr>\n",
       "      <th>27</th>\n",
       "      <td>1</td>\n",
       "      <td>MAX PACIORETTY</td>\n",
       "      <td>0.427083</td>\n",
       "      <td>0.330654</td>\n",
       "    </tr>\n",
       "    <tr>\n",
       "      <th>31</th>\n",
       "      <td>2</td>\n",
       "      <td>TOMAS PLEKANEC</td>\n",
       "      <td>0.250666</td>\n",
       "      <td>0.357843</td>\n",
       "    </tr>\n",
       "    <tr>\n",
       "      <th>228</th>\n",
       "      <td>2</td>\n",
       "      <td>CHRIS NEIL</td>\n",
       "      <td>0.197588</td>\n",
       "      <td>0.383691</td>\n",
       "    </tr>\n",
       "    <tr>\n",
       "      <th>236</th>\n",
       "      <td>0</td>\n",
       "      <td>ZACK SMITH</td>\n",
       "      <td>0.106298</td>\n",
       "      <td>0.389653</td>\n",
       "    </tr>\n",
       "    <tr>\n",
       "      <th>237</th>\n",
       "      <td>0</td>\n",
       "      <td>MARK STONE</td>\n",
       "      <td>0.139170</td>\n",
       "      <td>0.445509</td>\n",
       "    </tr>\n",
       "    <tr>\n",
       "      <th>238</th>\n",
       "      <td>2</td>\n",
       "      <td>KYLE TURRIS</td>\n",
       "      <td>0.175683</td>\n",
       "      <td>0.314324</td>\n",
       "    </tr>\n",
       "    <tr>\n",
       "      <th>241</th>\n",
       "      <td>0</td>\n",
       "      <td>MIKA ZIBANEJAD</td>\n",
       "      <td>0.075416</td>\n",
       "      <td>0.359237</td>\n",
       "    </tr>\n",
       "    <tr>\n",
       "      <th>249</th>\n",
       "      <td>2</td>\n",
       "      <td>ERIK CONDRA</td>\n",
       "      <td>0.158626</td>\n",
       "      <td>0.324694</td>\n",
       "    </tr>\n",
       "    <tr>\n",
       "      <th>281</th>\n",
       "      <td>0</td>\n",
       "      <td>RYAN WHITE</td>\n",
       "      <td>-0.004522</td>\n",
       "      <td>0.480690</td>\n",
       "    </tr>\n",
       "    <tr>\n",
       "      <th>389</th>\n",
       "      <td>2</td>\n",
       "      <td>TRAVIS MOEN</td>\n",
       "      <td>0.101769</td>\n",
       "      <td>0.324912</td>\n",
       "    </tr>\n",
       "    <tr>\n",
       "      <th>621</th>\n",
       "      <td>2</td>\n",
       "      <td>JAKOB SILFVERBERG</td>\n",
       "      <td>0.130837</td>\n",
       "      <td>0.300838</td>\n",
       "    </tr>\n",
       "    <tr>\n",
       "      <th>656</th>\n",
       "      <td>1</td>\n",
       "      <td>BRIAN GIONTA</td>\n",
       "      <td>0.283517</td>\n",
       "      <td>0.293225</td>\n",
       "    </tr>\n",
       "    <tr>\n",
       "      <th>813</th>\n",
       "      <td>2</td>\n",
       "      <td>COLIN GREENING</td>\n",
       "      <td>0.192890</td>\n",
       "      <td>0.348372</td>\n",
       "    </tr>\n",
       "    <tr>\n",
       "      <th>871</th>\n",
       "      <td>0</td>\n",
       "      <td>JIM O'BRIEN</td>\n",
       "      <td>0.143297</td>\n",
       "      <td>0.476671</td>\n",
       "    </tr>\n",
       "    <tr>\n",
       "      <th>1035</th>\n",
       "      <td>1</td>\n",
       "      <td>MICHAEL RYDER</td>\n",
       "      <td>0.328722</td>\n",
       "      <td>0.255047</td>\n",
       "    </tr>\n",
       "    <tr>\n",
       "      <th>1164</th>\n",
       "      <td>0</td>\n",
       "      <td>GABRIEL DUMONT</td>\n",
       "      <td>-0.049756</td>\n",
       "      <td>0.500345</td>\n",
       "    </tr>\n",
       "    <tr>\n",
       "      <th>1219</th>\n",
       "      <td>2</td>\n",
       "      <td>DANIEL ALFREDSSON</td>\n",
       "      <td>0.223126</td>\n",
       "      <td>0.353143</td>\n",
       "    </tr>\n",
       "    <tr>\n",
       "      <th>1374</th>\n",
       "      <td>1</td>\n",
       "      <td>GUILLAUME LATENDRESSE</td>\n",
       "      <td>0.441323</td>\n",
       "      <td>0.259264</td>\n",
       "    </tr>\n",
       "    <tr>\n",
       "      <th>1380</th>\n",
       "      <td>2</td>\n",
       "      <td>COLBY ARMSTRONG</td>\n",
       "      <td>0.118466</td>\n",
       "      <td>0.331657</td>\n",
       "    </tr>\n",
       "    <tr>\n",
       "      <th>1438</th>\n",
       "      <td>2</td>\n",
       "      <td>KASPARS DAUGAVINS</td>\n",
       "      <td>0.102894</td>\n",
       "      <td>0.344120</td>\n",
       "    </tr>\n",
       "  </tbody>\n",
       "</table>\n",
       "</div>"
      ],
      "text/plain": [
       "      class              firstlast  pred_ross  pred_selke\n",
       "8         2       DAVID DESHARNAIS   0.125451    0.260526\n",
       "9         0             LARS ELLER   0.058762    0.414097\n",
       "13        2        ALEX GALCHENYUK   0.191011    0.350594\n",
       "14        1      BRENDAN GALLAGHER   0.512559    0.215023\n",
       "27        1         MAX PACIORETTY   0.427083    0.330654\n",
       "31        2         TOMAS PLEKANEC   0.250666    0.357843\n",
       "228       2             CHRIS NEIL   0.197588    0.383691\n",
       "236       0             ZACK SMITH   0.106298    0.389653\n",
       "237       0             MARK STONE   0.139170    0.445509\n",
       "238       2            KYLE TURRIS   0.175683    0.314324\n",
       "241       0         MIKA ZIBANEJAD   0.075416    0.359237\n",
       "249       2            ERIK CONDRA   0.158626    0.324694\n",
       "281       0             RYAN WHITE  -0.004522    0.480690\n",
       "389       2            TRAVIS MOEN   0.101769    0.324912\n",
       "621       2      JAKOB SILFVERBERG   0.130837    0.300838\n",
       "656       1           BRIAN GIONTA   0.283517    0.293225\n",
       "813       2         COLIN GREENING   0.192890    0.348372\n",
       "871       0            JIM O'BRIEN   0.143297    0.476671\n",
       "1035      1          MICHAEL RYDER   0.328722    0.255047\n",
       "1164      0         GABRIEL DUMONT  -0.049756    0.500345\n",
       "1219      2      DANIEL ALFREDSSON   0.223126    0.353143\n",
       "1374      1  GUILLAUME LATENDRESSE   0.441323    0.259264\n",
       "1380      2        COLBY ARMSTRONG   0.118466    0.331657\n",
       "1438      2      KASPARS DAUGAVINS   0.102894    0.344120"
      ]
     },
     "execution_count": 9,
     "metadata": {},
     "output_type": "execute_result"
    }
   ],
   "source": [
    "# Visualize all player's classes: 0=def, 1=off, 2=neutral\n",
    "mtlott.player_classes\n"
   ]
  },
  {
   "cell_type": "code",
   "execution_count": 12,
   "metadata": {},
   "outputs": [],
   "source": [
    "# === Now we get the indices in the Q-values tables corresponding to lines\n",
    "\n",
    "# Line translation table\n",
    "linedict  = HockeySS(repoPbP, repoPSt)\n",
    "linedict.make_line_dictionary()\n",
    "linedict  = linedict.line_dictionary\n",
    "\n",
    "# Get lines and translate them \n",
    "playersCode  =   mtlott.encode_line_players()\n",
    "linesCode    =   np.array( [[mtlott.recode_line(linedict, a) for a in b] for b in playersCode] )\n"
   ]
  },
  {
   "cell_type": "code",
   "execution_count": 14,
   "metadata": {},
   "outputs": [
    {
     "data": {
      "text/plain": [
       "array([[ 8,  6],\n",
       "       [ 5,  5],\n",
       "       [ 8,  7],\n",
       "       [ 8,  4],\n",
       "       [ 4,  6],\n",
       "       [ 5,  5],\n",
       "       [ 8,  4],\n",
       "       [ 8,  7],\n",
       "       [ 8,  6],\n",
       "       [ 4,  6],\n",
       "       [ 8,  5],\n",
       "       [ 5,  7],\n",
       "       [-1,  9],\n",
       "       [ 8,  7],\n",
       "       [ 4,  6],\n",
       "       [ 7,  6],\n",
       "       [ 8,  5],\n",
       "       [ 5,  4],\n",
       "       [ 8,  7],\n",
       "       [ 8,  5],\n",
       "       [ 8,  5],\n",
       "       [ 4,  7],\n",
       "       [ 8,  4],\n",
       "       [ 5,  5],\n",
       "       [ 8,  6],\n",
       "       [ 4,  7],\n",
       "       [ 8,  7],\n",
       "       [ 8,  7],\n",
       "       [ 8,  6],\n",
       "       [ 4,  5],\n",
       "       [ 8,  4],\n",
       "       [ 8,  6],\n",
       "       [ 4,  5],\n",
       "       [ 4,  5],\n",
       "       [ 8,  7],\n",
       "       [ 8, -1],\n",
       "       [ 9,  7],\n",
       "       [ 9,  4],\n",
       "       [ 5,  5],\n",
       "       [ 8,  7],\n",
       "       [ 9,  5],\n",
       "       [ 9,  5],\n",
       "       [-1,  9],\n",
       "       [ 8, -1],\n",
       "       [ 5,  7],\n",
       "       [-1,  9],\n",
       "       [ 7,  4],\n",
       "       [ 8,  4],\n",
       "       [ 8,  9],\n",
       "       [ 8,  5],\n",
       "       [ 5,  5],\n",
       "       [ 4,  4],\n",
       "       [ 8,  9],\n",
       "       [ 8,  7],\n",
       "       [ 5,  5],\n",
       "       [ 8,  5],\n",
       "       [ 8,  9]])"
      ]
     },
     "execution_count": 14,
     "metadata": {},
     "output_type": "execute_result"
    }
   ],
   "source": [
    "# Visualize the line codes for each shift (first digit is the code of the away team's line - state-space, \n",
    "# second digit is the code of the home team's line - action space)\n",
    "linesCode"
   ]
  },
  {
   "cell_type": "code",
   "execution_count": 16,
   "metadata": {},
   "outputs": [
    {
     "name": "stdout",
     "output_type": "stream",
     "text": [
      "Q-table dimensions:  (3, 5, 10, 10)\n",
      "First shift: \n",
      "\thome team: DAVID DESHARNAIS, BRENDAN GALLAGHER, MAX PACIORETTY \n",
      "\taway team: KYLE TURRIS, JAKOB SILFVERBERG, COLIN GREENING \n",
      "\tQvalue: 2.99\n"
     ]
    }
   ],
   "source": [
    "# ==== Now we want to evaluate the value of the first shift for the (home team)\n",
    "\n",
    "# Load the Qvalues table\n",
    "Qvalues = pickle.load( open(path.join(repoCode, 'ReinforcementLearning/NHL/playbyplay/data/stable/RL_action_values.p'), 'rb') )['action_values']\n",
    "\n",
    "# Visualize it dimensions (period x differential x away line's code x home line's code)\n",
    "print('Q-table dimensions: ', Qvalues.shape)\n",
    "\n",
    "# Get the Q-value for that specific line\n",
    "iShift = 0 # First shift\n",
    "plList = list(mtlott.player_classes.loc[mtlott.lineShifts['playersID'].iloc[iShift][0]]['firstlast'].values) + list(mtlott.player_classes.loc[mtlott.lineShifts['playersID'].iloc[iShift][1]]['firstlast'].values)\n",
    "diff   = mtlott.recode_differential( mtlott.lineShifts.iloc[iShift].differential )\n",
    "period = mtlott.recode_period( mtlott.lineShifts.iloc[iShift].period )\n",
    "print('First shift: \\n\\thome team: %s, %s, %s \\n\\taway team: %s, %s, %s \\n\\tQvalue: %.2f' %(plList[0], plList[1], plList[2], plList[3], plList[4], plList[5], Qvalues[period,diff,linesCode[iShift,0], linesCode[iShift,1]]) )\n",
    "                                                                          \n"
   ]
  },
  {
   "cell_type": "code",
   "execution_count": null,
   "metadata": {},
   "outputs": [],
   "source": []
  }
 ],
 "metadata": {
  "kernelspec": {
   "display_name": "Python 3",
   "language": "python",
   "name": "python3"
  },
  "language_info": {
   "codemirror_mode": {
    "name": "ipython",
    "version": 3
   },
   "file_extension": ".py",
   "mimetype": "text/x-python",
   "name": "python",
   "nbconvert_exporter": "python",
   "pygments_lexer": "ipython3",
   "version": "3.6.3"
  }
 },
 "nbformat": 4,
 "nbformat_minor": 2
}
